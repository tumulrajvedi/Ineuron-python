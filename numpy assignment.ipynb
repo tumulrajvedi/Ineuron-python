{
 "cells": [
  {
   "cell_type": "markdown",
   "metadata": {},
   "source": [
    "Q1) Write a function so that the columns of the output matrix are powers of the input\n",
    "vector.\n",
    "The order of the powers is determined by the increasing boolean argument. Specifically, when\n",
    "increasing is False, the i-th output column is the input vector raised element-wise to the power\n",
    "of N - i - 1.\n",
    "\n",
    "HINT: Such a matrix with a geometric progression in each row is named for Alexandre-\n",
    "Theophile Vandermonde."
   ]
  },
  {
   "cell_type": "code",
   "execution_count": 3,
   "metadata": {},
   "outputs": [],
   "source": [
    "import numpy as np"
   ]
  },
  {
   "cell_type": "code",
   "execution_count": 33,
   "metadata": {},
   "outputs": [
    {
     "name": "stdout",
     "output_type": "stream",
     "text": [
      "when increaing is not given, default set to FALSE: \n",
      " [[ 1  1  1]\n",
      " [ 4  2  1]\n",
      " [ 9  3  1]\n",
      " [16  4  1]]\n",
      "when increaing is TRUE given: \n",
      " [[ 1  1  1]\n",
      " [ 1  2  4]\n",
      " [ 1  3  9]\n",
      " [ 1  4 16]]\n",
      "when increaing is FALSE given: \n",
      " [[ 1  1  1]\n",
      " [ 4  2  1]\n",
      " [ 9  3  1]\n",
      " [16  4  1]]\n"
     ]
    }
   ],
   "source": [
    "def matrix(vector, n, increasing = False):\n",
    "    if not increasing:\n",
    "        output = np.array([x**(n-i-1) for x in vector for i in range(n)]).reshape(vector.size,n)\n",
    "    elif increasing:\n",
    "        output =  np.array([x**i for x in vector for i in range(n)]).reshape(vector.size,n)\n",
    "    return output\n",
    "\n",
    "vector = np.array([1,2,3,4])\n",
    "opt_col = 3\n",
    "opt_mat1 = matrix(vector, opt_col)            \n",
    "opt_mat2 = matrix(vector, opt_col,True)\n",
    "opt_mat3= matrix(vector, opt_col,False)\n",
    "\n",
    "print(\"when increaing is not given, default set to FALSE: \\n\",opt_mat1)\n",
    "print(\"when increaing is TRUE given: \\n\",opt_mat2)\n",
    "print(\"when increaing is FALSE given: \\n\",opt_mat3)\n",
    "\n"
   ]
  },
  {
   "cell_type": "markdown",
   "metadata": {},
   "source": [
    "Q2) Write a function to find moving average in an array over a window:\n",
    "Test it over [3, 5, 7, 2, 8, 10, 11, 65, 72, 81, 99, 100, 150] and window of 3."
   ]
  },
  {
   "cell_type": "code",
   "execution_count": 34,
   "metadata": {},
   "outputs": [
    {
     "name": "stdout",
     "output_type": "stream",
     "text": [
      "input:  [  3   5   7   2   8  10  11  65  72  81  99 100 150]\n",
      "The moving average sequence has  11  values. Rounded to 2 decimal places\n",
      "Moving average sequence:  [5.0, 4.67, 5.67, 6.67, 9.67, 28.67, 49.33, 72.67, 84.0, 93.33, 116.33]\n"
     ]
    }
   ],
   "source": [
    "def moving_avg(in_array, w,num):\n",
    "    avgs =[]\n",
    "    print(\"input: \",in_array)\n",
    "    n=1\n",
    "    while(n<=num):\n",
    "        sum =0\n",
    "        for i in range(0,w):\n",
    "            sum+= in_array[i]\n",
    "        avg = sum/w\n",
    "        avgs.append(round(avg,2))\n",
    "        in_array=np.delete(in_array,[0])\n",
    "        n+=1\n",
    "    return avgs\n",
    "\n",
    "in_array =np.array([3, 5, 7, 2, 8, 10, 11, 65, 72, 81, 99, 100, 150])\n",
    "#in_array = np.array([10, 20, 30, 40, 50, 60, 70, 80, 90, 100])\n",
    "window = 3\n",
    "num= in_array.size-window+1\n",
    "output = moving_avg(in_array,window,num)\n",
    "print(\"The moving average sequence has \",num,\" values. Rounded to 2 decimal places\")\n",
    "print(\"Moving average sequence: \",output)"
   ]
  },
  {
   "cell_type": "code",
   "execution_count": null,
   "metadata": {
    "scrolled": true
   },
   "outputs": [],
   "source": []
  },
  {
   "cell_type": "code",
   "execution_count": null,
   "metadata": {},
   "outputs": [],
   "source": []
  },
  {
   "cell_type": "code",
   "execution_count": null,
   "metadata": {},
   "outputs": [],
   "source": []
  }
 ],
 "metadata": {
  "kernelspec": {
   "display_name": "Python 3",
   "language": "python",
   "name": "python3"
  },
  "language_info": {
   "codemirror_mode": {
    "name": "ipython",
    "version": 3
   },
   "file_extension": ".py",
   "mimetype": "text/x-python",
   "name": "python",
   "nbconvert_exporter": "python",
   "pygments_lexer": "ipython3",
   "version": "3.7.6"
  }
 },
 "nbformat": 4,
 "nbformat_minor": 4
}
