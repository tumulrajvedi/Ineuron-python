{
 "cells": [
  {
   "cell_type": "markdown",
   "metadata": {},
   "source": [
    "Q 1.1) Write a Python Program(with class concepts) to find the area of the triangle using the below\n",
    "formula.\n",
    "area = (s*(s-a)*(s-b)*(s-c)) ** 0.5\n",
    "Function to take the length of the sides of triangle from user should be defined in the parent\n",
    "class and function to calculate the area should be defined in subclass."
   ]
  },
  {
   "cell_type": "code",
   "execution_count": 1,
   "metadata": {},
   "outputs": [
    {
     "data": {
      "text/plain": [
       "6.0"
      ]
     },
     "execution_count": 1,
     "metadata": {},
     "output_type": "execute_result"
    }
   ],
   "source": [
    "import math\n",
    "#parent class\n",
    "class len_triangle():\n",
    "    def __init__(self,a,b,c):\n",
    "        self.a=a\n",
    "        self.b=b\n",
    "        self.c=c\n",
    "\n",
    "        #child class\n",
    "class area_triangle(len_triangle):\n",
    "    def __init__(self, *args):\n",
    "        super(area_triangle,self).__init__(*args)\n",
    "        #self.area=0\n",
    "        #self.s=0\n",
    "    \n",
    "    def calculate(self):\n",
    "        x=self.a\n",
    "        y=self.b\n",
    "        z=self.c\n",
    "        s=(x+y+z)/2\n",
    "        area=round((s*(s-x)*(s-y)*(s-z))**0.5, 4)\n",
    "        return area\n",
    "        \n",
    "area_triangle=area_triangle(3,4,5)\n",
    "area_triangle.calculate()\n"
   ]
  },
  {
   "cell_type": "markdown",
   "metadata": {},
   "source": [
    "Q 1.2) Write a function filter_long_words() that takes a list of words and an integer n and returns\n",
    "the list of words that are longer than n."
   ]
  },
  {
   "cell_type": "code",
   "execution_count": 2,
   "metadata": {},
   "outputs": [
    {
     "data": {
      "text/plain": [
       "['fyfkh', 'tudutdksrsk', 'j8ggu']"
      ]
     },
     "execution_count": 2,
     "metadata": {},
     "output_type": "execute_result"
    }
   ],
   "source": [
    "def filter_long_words(str, n):\n",
    "    result=[]\n",
    "    for i in str:\n",
    "        if(len(i)>n):\n",
    "            result.append(i)\n",
    "    return result\n",
    "\n",
    "filter_long_words(['gh','k','fyfkh','gop','tudutdksrsk','j8ggu'], 3)"
   ]
  },
  {
   "cell_type": "markdown",
   "metadata": {},
   "source": [
    "Q 2.1) Write a Python program using function concept that maps list of words into a list of integers\n",
    "representing the lengths of the corresponding words.\n",
    "Hint: If a list [ ab,cde,erty] is passed on to the python function output should come as [2,3,4]\n",
    "Here 2,3 and 4 are the lengths of the words in the list."
   ]
  },
  {
   "cell_type": "code",
   "execution_count": 3,
   "metadata": {},
   "outputs": [
    {
     "data": {
      "text/plain": [
       "[1, 2, 7, 4, 27]"
      ]
     },
     "execution_count": 3,
     "metadata": {},
     "output_type": "execute_result"
    }
   ],
   "source": [
    "def map_len(str):\n",
    "    result=[]\n",
    "    for i in str:\n",
    "        result.append(len(i))\n",
    "    return result\n",
    "\n",
    "map_len(['ab','cde','erty'])\n",
    "map_len(['a','jk','tddfghg','popo','qwtyuiiopgffccvbbnnmkjhgcfs'])"
   ]
  },
  {
   "cell_type": "markdown",
   "metadata": {},
   "source": [
    "Q 2.2) Write a Python function which takes a character (i.e. a string of length 1) and returns True if\n",
    "it is a vowel, False otherwise."
   ]
  },
  {
   "cell_type": "code",
   "execution_count": 4,
   "metadata": {},
   "outputs": [
    {
     "data": {
      "text/plain": [
       "True"
      ]
     },
     "execution_count": 4,
     "metadata": {},
     "output_type": "execute_result"
    }
   ],
   "source": [
    "def isVowel(str):\n",
    "    # to check if its character\n",
    "    if(len(str)>1):\n",
    "        return False\n",
    "    else:\n",
    "        if str.lower() in ('a','e','i','o','u'):\n",
    "            return True\n",
    "        return False\n",
    "        \n",
    "isVowel('i')"
   ]
  },
  {
   "cell_type": "code",
   "execution_count": null,
   "metadata": {
    "collapsed": true
   },
   "outputs": [],
   "source": []
  }
 ],
 "metadata": {
  "kernelspec": {
   "display_name": "Python 3",
   "language": "python",
   "name": "python3"
  },
  "language_info": {
   "codemirror_mode": {
    "name": "ipython",
    "version": 3
   },
   "file_extension": ".py",
   "mimetype": "text/x-python",
   "name": "python",
   "nbconvert_exporter": "python",
   "pygments_lexer": "ipython3",
   "version": "3.6.2"
  }
 },
 "nbformat": 4,
 "nbformat_minor": 2
}
