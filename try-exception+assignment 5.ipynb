{
 "cells": [
  {
   "cell_type": "markdown",
   "metadata": {},
   "source": [
    "Q1) Write a function to compute 5/0 and use try/except to catch the exceptions."
   ]
  },
  {
   "cell_type": "code",
   "execution_count": 8,
   "metadata": {},
   "outputs": [
    {
     "name": "stdout",
     "output_type": "stream",
     "text": [
      "Enter the divisor: \n",
      "0\n",
      "Try block has failed.Divisor is wrong. Error is: division by zero\n",
      "Finally will execute no matter the failure or success.\n"
     ]
    }
   ],
   "source": [
    "def divide(n):\n",
    "    return 5/n\n",
    "try:\n",
    "    print(\"Enter the divisor: \")\n",
    "    n=int(input())\n",
    "    divide(n)\n",
    "except Exception as e:\n",
    "    print(\"Try block has failed.Divisor is wrong. Error is:\",e) \n",
    "finally:\n",
    "    print(\"Finally will execute no matter the failure or success.\")"
   ]
  },
  {
   "cell_type": "markdown",
   "metadata": {},
   "source": [
    "Q2) Implement a Python program to generate all sentences where subject is in\n",
    "[\"Americans\", \"Indians\"] and verb is in [\"Play\", \"watch\"] and the object is in\n",
    "[\"Baseball\",\"cricket\"]."
   ]
  },
  {
   "cell_type": "code",
   "execution_count": 29,
   "metadata": {},
   "outputs": [
    {
     "name": "stdout",
     "output_type": "stream",
     "text": [
      "Americans Play Baseball \n",
      "\n",
      "Americans Play Cricket \n",
      "\n",
      "Americans Watch Baseball \n",
      "\n",
      "Americans Watch Cricket \n",
      "\n",
      "Indians Play Baseball \n",
      "\n",
      "Indians Play Cricket \n",
      "\n",
      "Indians Watch Baseball \n",
      "\n",
      "Indians Watch Cricket \n",
      "\n"
     ]
    }
   ],
   "source": [
    "subjects=[\"Americans\",\"Indians\"]\n",
    "verbs=[\"Play\",\"Watch\"]\n",
    "objects=[\"Baseball\", \"Cricket\"]\n",
    "\n",
    "r=(print(i,j,k,\"\\n\") for i in subjects for j in verbs for k in objects)\n",
    "for result in r:\n",
    "    result"
   ]
  },
  {
   "cell_type": "code",
   "execution_count": 21,
   "metadata": {},
   "outputs": [
    {
     "name": "stdout",
     "output_type": "stream",
     "text": [
      "Americans Play Baseball \n",
      "\n",
      "Americans Play Cricket \n",
      "\n",
      "Americans Watch Baseball \n",
      "\n",
      "Americans Watch Cricket \n",
      "\n",
      "Indians Play Baseball \n",
      "\n",
      "Indians Play Cricket \n",
      "\n",
      "Indians Watch Baseball \n",
      "\n",
      "Indians Watch Cricket \n",
      "\n"
     ]
    }
   ],
   "source": [
    "# similar code\n",
    "for i in subjects:\n",
    "    for j in verbs:\n",
    "        for k in objects:\n",
    "            print(i,j,k,\"\\n\")\n"
   ]
  },
  {
   "cell_type": "code",
   "execution_count": null,
   "metadata": {
    "collapsed": true
   },
   "outputs": [],
   "source": []
  }
 ],
 "metadata": {
  "kernelspec": {
   "display_name": "Python 3",
   "language": "python",
   "name": "python3"
  },
  "language_info": {
   "codemirror_mode": {
    "name": "ipython",
    "version": 3
   },
   "file_extension": ".py",
   "mimetype": "text/x-python",
   "name": "python",
   "nbconvert_exporter": "python",
   "pygments_lexer": "ipython3",
   "version": "3.6.2"
  }
 },
 "nbformat": 4,
 "nbformat_minor": 2
}
